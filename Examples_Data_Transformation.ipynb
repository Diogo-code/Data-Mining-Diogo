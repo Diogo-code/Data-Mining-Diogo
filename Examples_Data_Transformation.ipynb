{
  "nbformat": 4,
  "nbformat_minor": 0,
  "metadata": {
    "colab": {
      "name": "Examples - Data Transformation.ipynb",
      "provenance": [],
      "include_colab_link": true
    },
    "kernelspec": {
      "name": "python3",
      "display_name": "Python 3"
    },
    "language_info": {
      "name": "python"
    }
  },
  "cells": [
    {
      "cell_type": "markdown",
      "metadata": {
        "id": "view-in-github",
        "colab_type": "text"
      },
      "source": [
        "<a href=\"https://colab.research.google.com/github/Diogo-code/Data-Mining-Diogo/blob/main/Examples_Data_Transformation.ipynb\" target=\"_parent\"><img src=\"https://colab.research.google.com/assets/colab-badge.svg\" alt=\"Open In Colab\"/></a>"
      ]
    },
    {
      "cell_type": "code",
      "metadata": {
        "colab": {
          "base_uri": "https://localhost:8080/"
        },
        "id": "F4SA09vUkYzE",
        "outputId": "8e999c89-346f-4805-8da1-8b7d6e2dc1a5"
      },
      "source": [
        "import pandas as pd\n",
        "import numpy as np\n",
        "\n",
        "HousingData = pd.read_csv('/content/melb_data.csv')\n",
        "\n",
        "HousingData['Date'] = pd.to_datetime(HousingData['Date'])\n",
        "\n",
        "HousingData['Propertycount'] = HousingData['Propertycount'].astype('int')\n",
        "\n",
        "#TypeMap =  {'h':'house', 'u':'unit', 't':'town_house'}\n",
        "\n",
        "TypeMap = {HousingData.Type.unique()[0]:'house', HousingData.Type.unique()[1]:'unit', HousingData.Type.unique()[2]:'town_house'}\n",
        "\n",
        "HousingData.Type.replace(TypeMap, inplace=True)\n",
        "\n",
        "HousingData['Type']=HousingData['Type'].astype('category')\n",
        "\n",
        "#print(HousingData.Type.memory_usage())\n",
        "\n",
        "HousingData['Month'] = HousingData['Date'].dt.month\n",
        "\n",
        "HousingData['Weekday'] = HousingData['Date'].dt.weekday\n",
        "\n",
        "HousingData.Address.str.upper().sample(10)"
      ],
      "execution_count": null,
      "outputs": [
        {
          "output_type": "execute_result",
          "data": {
            "text/plain": [
              "8727         12A DOYLE ST\n",
              "7626     235 NICHOLSON ST\n",
              "6609       70 TARCOOLA DR\n",
              "11016         10 BAIRD ST\n",
              "5515         32 WALTER ST\n",
              "13286    11 GRENVILLE TCE\n",
              "3770         14 HOWARD ST\n",
              "4952          70 BRUCE ST\n",
              "6027         8 HASSETT ST\n",
              "10317      328 BARKERS RD\n",
              "Name: Address, dtype: object"
            ]
          },
          "metadata": {},
          "execution_count": 33
        }
      ]
    },
    {
      "cell_type": "code",
      "metadata": {
        "colab": {
          "base_uri": "https://localhost:8080/",
          "height": 298
        },
        "id": "laXD9R4Uu1O2",
        "outputId": "1bf805cd-6457-4b4c-bdef-dd51330b5a83"
      },
      "source": [
        "import pandas as pd\n",
        "import numpy as np\n",
        "from datetime import date\n",
        "\n",
        "MarketingData=pd.read_csv('/content/marketing_data.csv')\n",
        "\n",
        "MarketingData['Age']= date.today().year - MarketingData['Year_Birth']\n",
        "\n",
        "MarketingData['Year'] = pd.DatetimeIndex(MarketingData['Dt_Customer']).year\n",
        "\n",
        "MarketingData['Enrollment_Length'] = date.today().year - MarketingData['Year']\n",
        "\n",
        "MarketingData[' Income '] = MarketingData[' Income '].str.replace(',', '').str.replace('$', '').str.replace('.', '').fillna(0).astype(int)\n",
        "\n",
        "MarketingData['Income_M$'] = MarketingData[' Income '].apply(lambda x: round(x/1000000, 2))\n",
        "\n",
        "MarketingData[[' Income ', 'Income_M$']].describe()"
      ],
      "execution_count": null,
      "outputs": [
        {
          "output_type": "execute_result",
          "data": {
            "text/html": [
              "<div>\n",
              "<style scoped>\n",
              "    .dataframe tbody tr th:only-of-type {\n",
              "        vertical-align: middle;\n",
              "    }\n",
              "\n",
              "    .dataframe tbody tr th {\n",
              "        vertical-align: top;\n",
              "    }\n",
              "\n",
              "    .dataframe thead th {\n",
              "        text-align: right;\n",
              "    }\n",
              "</style>\n",
              "<table border=\"1\" class=\"dataframe\">\n",
              "  <thead>\n",
              "    <tr style=\"text-align: right;\">\n",
              "      <th></th>\n",
              "      <th>Income</th>\n",
              "      <th>Income_M$</th>\n",
              "    </tr>\n",
              "  </thead>\n",
              "  <tbody>\n",
              "    <tr>\n",
              "      <th>count</th>\n",
              "      <td>2.240000e+03</td>\n",
              "      <td>2240.000000</td>\n",
              "    </tr>\n",
              "    <tr>\n",
              "      <th>mean</th>\n",
              "      <td>5.168746e+06</td>\n",
              "      <td>5.168737</td>\n",
              "    </tr>\n",
              "    <tr>\n",
              "      <th>std</th>\n",
              "      <td>2.560934e+06</td>\n",
              "      <td>2.560927</td>\n",
              "    </tr>\n",
              "    <tr>\n",
              "      <th>min</th>\n",
              "      <td>0.000000e+00</td>\n",
              "      <td>0.000000</td>\n",
              "    </tr>\n",
              "    <tr>\n",
              "      <th>25%</th>\n",
              "      <td>3.472200e+06</td>\n",
              "      <td>3.470000</td>\n",
              "    </tr>\n",
              "    <tr>\n",
              "      <th>50%</th>\n",
              "      <td>5.107500e+06</td>\n",
              "      <td>5.105000</td>\n",
              "    </tr>\n",
              "    <tr>\n",
              "      <th>75%</th>\n",
              "      <td>6.828975e+06</td>\n",
              "      <td>6.830000</td>\n",
              "    </tr>\n",
              "    <tr>\n",
              "      <th>max</th>\n",
              "      <td>6.666660e+07</td>\n",
              "      <td>66.670000</td>\n",
              "    </tr>\n",
              "  </tbody>\n",
              "</table>\n",
              "</div>"
            ],
            "text/plain": [
              "            Income     Income_M$\n",
              "count  2.240000e+03  2240.000000\n",
              "mean   5.168746e+06     5.168737\n",
              "std    2.560934e+06     2.560927\n",
              "min    0.000000e+00     0.000000\n",
              "25%    3.472200e+06     3.470000\n",
              "50%    5.107500e+06     5.105000\n",
              "75%    6.828975e+06     6.830000\n",
              "max    6.666660e+07    66.670000"
            ]
          },
          "metadata": {},
          "execution_count": 13
        }
      ]
    }
  ]
}
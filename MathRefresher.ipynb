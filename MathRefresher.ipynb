{
  "nbformat": 4,
  "nbformat_minor": 0,
  "metadata": {
    "colab": {
      "name": "MathRefresher.ipynb",
      "provenance": [],
      "include_colab_link": true
    },
    "kernelspec": {
      "name": "python3",
      "display_name": "Python 3"
    },
    "language_info": {
      "name": "python"
    }
  },
  "cells": [
    {
      "cell_type": "markdown",
      "metadata": {
        "id": "view-in-github",
        "colab_type": "text"
      },
      "source": [
        "<a href=\"https://colab.research.google.com/github/Diogo-code/Data-Mining-Diogo/blob/main/MathRefresher.ipynb\" target=\"_parent\"><img src=\"https://colab.research.google.com/assets/colab-badge.svg\" alt=\"Open In Colab\"/></a>"
      ]
    },
    {
      "cell_type": "code",
      "metadata": {
        "colab": {
          "base_uri": "https://localhost:8080/",
          "height": 282
        },
        "id": "7s593UnaIGdB",
        "outputId": "f293fcbf-9124-4e22-e2a6-88492bbc90e3"
      },
      "source": [
        "import numpy as np\n",
        "from sklearn.linear_model import LinearRegression\n",
        "import matplotlib as mp\n",
        "\n",
        "x = np.random.rand(100)\n",
        "x = x.reshape(-1,1)\n",
        "y = np.random.rand(100)\n",
        "y = y.reshape(-1,1)\n",
        "\n",
        "mp.pyplot.scatter(x,y)\n",
        "\n",
        "xy_model = LinearRegression().fit(x,y)\n",
        "xy_model.score(x,y)\n",
        "\n",
        "modeled_y = xy_model.predict(x)\n",
        "mp.pyplot.plot(x,modeled_y)\n"
      ],
      "execution_count": null,
      "outputs": [
        {
          "output_type": "execute_result",
          "data": {
            "text/plain": [
              "[<matplotlib.lines.Line2D at 0x7f06ac315450>]"
            ]
          },
          "metadata": {},
          "execution_count": 4
        },
        {
          "output_type": "display_data",
          "data": {
            "image/png": "[encoded data removed]",
            "text/plain": [
              "<Figure size 432x288 with 1 Axes>"
            ]
          },
          "metadata": {
            "needs_background": "light"
          }
        }
      ]
    },
    {
      "cell_type": "code",
      "metadata": {
        "colab": {
          "base_uri": "https://localhost:8080/",
          "height": 282
        },
        "id": "ym62hrM_LKwg",
        "outputId": "c78d4da2-2fb9-4973-a66f-5b4e973e7186"
      },
      "source": [
        "import numpy as np\n",
        "from sklearn.linear_model import LinearRegression\n",
        "import matplotlib as mp\n",
        "\n",
        "x = np.random.rand(100)\n",
        "y = np.random.rand(100)\n",
        "z = x + y\n",
        "x = x.reshape(-1,1)\n",
        "z = z.reshape(-1,1)\n",
        "\n",
        "mp.pyplot.scatter(x,z)\n",
        "\n",
        "xz_model = LinearRegression().fit(x,z)\n",
        "xz_model.score(x,z)\n",
        "\n",
        "modeled_z = xz_model.predict(x)\n",
        "mp.pyplot.plot(x,modeled_z)\n",
        "\n"
      ],
      "execution_count": null,
      "outputs": [
        {
          "output_type": "execute_result",
          "data": {
            "text/plain": [
              "[<matplotlib.lines.Line2D at 0x7f06ac359e50>]"
            ]
          },
          "metadata": {},
          "execution_count": 5
        },
        {
          "output_type": "display_data",
          "data": {
            "image/png": "[encoded data removed]",
            "text/plain": [
              "<Figure size 432x288 with 1 Axes>"
            ]
          },
          "metadata": {
            "needs_background": "light"
          }
        }
      ]
    }
  ]
}
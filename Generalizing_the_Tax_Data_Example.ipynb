{
  "nbformat": 4,
  "nbformat_minor": 0,
  "metadata": {
    "colab": {
      "name": "Generalizing the Tax Data Example.ipynb",
      "provenance": [],
      "authorship_tag": "ABX9TyM7J79upM4f6g6PMfWZtth3",
      "include_colab_link": true
    },
    "kernelspec": {
      "name": "python3",
      "display_name": "Python 3"
    },
    "language_info": {
      "name": "python"
    }
  },
  "cells": [
    {
      "cell_type": "markdown",
      "metadata": {
        "id": "view-in-github",
        "colab_type": "text"
      },
      "source": [
        "<a href=\"https://colab.research.google.com/github/Diogo-code/Data-Mining-Diogo/blob/main/Generalizing_the_Tax_Data_Example.ipynb\" target=\"_parent\"><img src=\"https://colab.research.google.com/assets/colab-badge.svg\" alt=\"Open In Colab\"/></a>"
      ]
    },
    {
      "cell_type": "code",
      "metadata": {
        "colab": {
          "base_uri": "https://localhost:8080/"
        },
        "id": "qfCwsDJwbDEu",
        "outputId": "43c26701-6c25-47af-afa0-335aa1719b25"
      },
      "source": [
        "import numpy as np\n",
        "import pandas as pd\n",
        "from sklearn import linear_model as lm\n",
        "\n",
        "#Data loading steps\n",
        "irisData = pd.read_csv('/content/tableconvert_csv_so70jx.csv')\n",
        "\n",
        "#Setting qualitative values to quantitative values by using a dictionary and .map\n",
        "dict = {'Setosa':0, 'Versicolor':1, 'Virginica': 2}\n",
        "\n",
        "irisData['variety'] = irisData['variety'].map(dict)\n",
        "\n",
        "#Data mining steps\n",
        "targetFeature = 'variety'\n",
        "irisFeatures = irisData.drop(targetFeature, axis=1)\n",
        "\n",
        "#Finding the most important and least important feature\n",
        "MostImportantFeature = irisFeatures.std().sort_values(ascending=False)[0:1]\n",
        "LeastImportantFeature = irisFeatures.std().sort_values()[0:1]\n",
        "\n",
        "#Testing Data mining findings for most important feature\n",
        "xb = np.array(irisData['petal.length'])\n",
        "xb = xb.reshape(-1,1)\n",
        "yb = np.array(irisData['variety'])\n",
        "yb = yb.reshape(-1,1)\n",
        "\n",
        "bestModel = lm.LinearRegression().fit(xb,yb)\n",
        "BMscore = bestModel.score(xb,yb)\n",
        "\n",
        "#Testing Data mining findings for least important feature\n",
        "xw = np.array(irisData['sepal.width'])\n",
        "xw = xw.reshape(-1,1)\n",
        "yw = np.array(irisData['variety'])\n",
        "yw = yw.reshape(-1,1)\n",
        "\n",
        "worstModel = lm.LinearRegression().fit(xw,yw)\n",
        "WMscore = worstModel.score(xw,yw)\n",
        "\n",
        "#New Data with Best feature by using the most important feature and the target feature\n",
        "BestDataModel = irisData[[targetFeature, MostImportantFeature.index[0]]]\n",
        "\n",
        "print(\"Best Model:\", BMscore)\n",
        "print(\"Worst Model:\", WMscore)\n",
        "print('Best Data Model:\\n',BestDataModel)"
      ],
      "execution_count": null,
      "outputs": [
        {
          "output_type": "stream",
          "name": "stdout",
          "text": [
            "Best Model: 0.9006668599219426\n",
            "Worst Model: 0.18203667417169866\n",
            "Best Data Model:\n",
            "      variety  petal.length\n",
            "0          0           1.4\n",
            "1          0           1.4\n",
            "2          0           1.3\n",
            "3          0           1.5\n",
            "4          0           1.4\n",
            "..       ...           ...\n",
            "145        2           5.2\n",
            "146        2           5.0\n",
            "147        2           5.2\n",
            "148        2           5.4\n",
            "149        2           5.1\n",
            "\n",
            "[150 rows x 2 columns]\n"
          ]
        }
      ]
    }
  ]
}
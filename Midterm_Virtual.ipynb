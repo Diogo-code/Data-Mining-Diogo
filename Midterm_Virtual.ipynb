{
  "nbformat": 4,
  "nbformat_minor": 0,
  "metadata": {
    "colab": {
      "name": "Midterm Virtual.ipynb",
      "provenance": [],
      "authorship_tag": "ABX9TyOs1plJrulWfAj0ma0D0pcz",
      "include_colab_link": true
    },
    "kernelspec": {
      "name": "python3",
      "display_name": "Python 3"
    },
    "language_info": {
      "name": "python"
    }
  },
  "cells": [
    {
      "cell_type": "markdown",
      "metadata": {
        "id": "view-in-github",
        "colab_type": "text"
      },
      "source": [
        "<a href=\"https://colab.research.google.com/github/Diogo-code/Data-Mining-Diogo/blob/main/Midterm_Virtual.ipynb\" target=\"_parent\"><img src=\"https://colab.research.google.com/assets/colab-badge.svg\" alt=\"Open In Colab\"/></a>"
      ]
    },
    {
      "cell_type": "code",
      "metadata": {
        "id": "miymcAveu9OP"
      },
      "source": [
        "import pandas as pd\n",
        "import numpy as np\n",
        "from sklearn import linear_model as lm\n",
        "from sklearn.model_selection import train_test_split\n",
        "import matplotlib.pyplot as plt\n",
        "\n",
        "data = pd.read_csv('/content/irisdata - irisdata.csv')\n",
        "data['sepal_length'] = data['sepal_length'].str.replace('$','')\n",
        "data['sepal_width'] = data['sepal_width'].str.replace('%','')\n",
        "data['petal_length'] = data['petal_length'].str.replace(',','')\n",
        "data['petal_width'] = data['petal_width'].str.replace('t','')\n",
        "\n",
        "data['sepal_length'] = data['sepal_length'].astype('float')\n",
        "data['sepal_width'] = data['sepal_width'].astype('float')\n",
        "data['petal_length'] = data['petal_length'].astype('float')\n",
        "data['petal_width'] = data['petal_width'].astype('float')\n",
        "data['species'] = data['species'].astype('str')\n",
        "data.set_index('ID', inplace= True)\n",
        "\n",
        "targetFeature = 'species'\n",
        "dataFeature = data.drop(targetFeature, axis=1)\n",
        "\n",
        "MostImportantVariable = data.std().sort_values(ascending=False)[0:1]\n",
        "SecondImportantVariable = data.std().sort_values(ascending=False)[0:2]\n",
        "\n",
        "\n",
        "\n",
        "xb = np.array(data['petal_length'])\n",
        "xb = xb.reshape(-1,1)\n",
        "yb = np.array(data['species'])\n",
        "yb = yb.reshape(-1,1)\n",
        "\n",
        "\n",
        "xb = np.array(data['sepal_width'])\n",
        "xb = xb.reshape(-1,1)\n",
        "yb = np.array(data['species'])\n",
        "yb = yb.reshape(-1,1)\n",
        "\n",
        "\n",
        "BestDataModel = data[[targetFeature, MostImportantFeature.index[0]]]\n",
        "BestDataModel.to_csv('BestDataModel.csv')"
      ],
      "execution_count": 71,
      "outputs": []
    }
  ]
}
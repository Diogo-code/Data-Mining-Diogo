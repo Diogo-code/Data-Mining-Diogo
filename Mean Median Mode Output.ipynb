{
  "nbformat": 4,
  "nbformat_minor": 0,
  "metadata": {
    "colab": {
      "name": "Pack.ipynb",
      "provenance": [],
      "authorship_tag": "ABX9TyNgfZ53Y8gOW6G2kNCDkuE3",
      "include_colab_link": true
    },
    "kernelspec": {
      "name": "python3",
      "display_name": "Python 3"
    },
    "language_info": {
      "name": "python"
    }
  },
  "cells": [
    {
      "cell_type": "markdown",
      "metadata": {
        "id": "view-in-github",
        "colab_type": "text"
      },
      "source": [
        "<a href=\"https://colab.research.google.com/github/Diogo-code/Data-Mining-Diogo/blob/main/Mean%20Median%20Mode%20Output.ipynb\" target=\"_parent\"><img src=\"https://colab.research.google.com/assets/colab-badge.svg\" alt=\"Open In Colab\"/></a>"
      ]
    },
    {
      "cell_type": "code",
      "metadata": {
        "colab": {
          "base_uri": "https://localhost:8080/"
        },
        "id": "jzEGhk430x-3",
        "outputId": "885e2389-d59f-422b-d5f0-3c4aa4d5cf69"
      },
      "source": [
        "import numpy as np\n",
        "import pandas as pd\n",
        "!pip install -U scikit-learn\n",
        "!pip install psycopg2-binary\n",
        "import sqlalchemy as sqla\n",
        "from scipy import stats\n",
        "import matplotlib"
      ],
      "execution_count": null,
      "outputs": [
        {
          "output_type": "stream",
          "name": "stdout",
          "text": [
            "Requirement already satisfied: scikit-learn in /usr/local/lib/python3.7/dist-packages (0.24.2)\n",
            "Requirement already satisfied: joblib>=0.11 in /usr/local/lib/python3.7/dist-packages (from scikit-learn) (1.0.1)\n",
            "Requirement already satisfied: scipy>=0.19.1 in /usr/local/lib/python3.7/dist-packages (from scikit-learn) (1.4.1)\n",
            "Requirement already satisfied: numpy>=1.13.3 in /usr/local/lib/python3.7/dist-packages (from scikit-learn) (1.19.5)\n",
            "Requirement already satisfied: threadpoolctl>=2.0.0 in /usr/local/lib/python3.7/dist-packages (from scikit-learn) (2.2.0)\n",
            "Requirement already satisfied: psycopg2-binary in /usr/local/lib/python3.7/dist-packages (2.9.1)\n"
          ]
        }
      ]
    },
    {
      "cell_type": "code",
      "metadata": {
        "colab": {
          "base_uri": "https://localhost:8080/"
        },
        "id": "8uNR3UbY3riP",
        "outputId": "bc28a286-745d-467d-f084-aaaada0f7237"
      },
      "source": [
        "x = np.random.rand(100)\n",
        "x"
      ],
      "execution_count": 23,
      "outputs": [
        {
          "output_type": "execute_result",
          "data": {
            "text/plain": [
              "array([0.9197061 , 0.09884075, 0.79957531, 0.61489761, 0.43527456,\n",
              "       0.94940747, 0.265714  , 0.83530831, 0.24745114, 0.96766701,\n",
              "       0.13907841, 0.95682386, 0.48852673, 0.58083065, 0.47327363,\n",
              "       0.03010995, 0.31999738, 0.24331503, 0.30819663, 0.26523496,\n",
              "       0.82479795, 0.28956891, 0.8890028 , 0.68480263, 0.78585924,\n",
              "       0.66678075, 0.40607816, 0.93874891, 0.63772459, 0.27927058,\n",
              "       0.6463899 , 0.51027519, 0.70761734, 0.21746812, 0.80475649,\n",
              "       0.32579232, 0.44977277, 0.69467402, 0.97963128, 0.81030563,\n",
              "       0.8979972 , 0.21882812, 0.16018304, 0.66408746, 0.13277824,\n",
              "       0.52375027, 0.9766719 , 0.92724459, 0.47189288, 0.55992341,\n",
              "       0.2014088 , 0.16293161, 0.48099395, 0.51469429, 0.7805407 ,\n",
              "       0.6779346 , 0.32316182, 0.7195882 , 0.76556302, 0.93819787,\n",
              "       0.86682678, 0.61633682, 0.95459656, 0.5043288 , 0.10280666,\n",
              "       0.63239561, 0.73811195, 0.97983734, 0.09722399, 0.53445869,\n",
              "       0.48768558, 0.26246665, 0.81130853, 0.68027449, 0.42104604,\n",
              "       0.87795998, 0.85128686, 0.78905687, 0.12559724, 0.76600928,\n",
              "       0.14448225, 0.94589213, 0.58480915, 0.57225363, 0.16815214,\n",
              "       0.40355973, 0.2194034 , 0.30703929, 0.23148114, 0.74751759,\n",
              "       0.25501574, 0.77988554, 0.72841423, 0.67761781, 0.24093907,\n",
              "       0.35596443, 0.54981177, 0.99953696, 0.00954742, 0.18253852])"
            ]
          },
          "metadata": {},
          "execution_count": 23
        }
      ]
    },
    {
      "cell_type": "code",
      "metadata": {
        "colab": {
          "base_uri": "https://localhost:8080/"
        },
        "id": "Zei3FUqy443G",
        "outputId": "7491d51f-ec64-4e78-fb44-51197f6e183c"
      },
      "source": [
        "a = np.mean(x)\n",
        "a"
      ],
      "execution_count": null,
      "outputs": [
        {
          "output_type": "execute_result",
          "data": {
            "text/plain": [
              "0.5395427166824918"
            ]
          },
          "metadata": {},
          "execution_count": 16
        }
      ]
    },
    {
      "cell_type": "code",
      "metadata": {
        "colab": {
          "base_uri": "https://localhost:8080/"
        },
        "id": "Cjp4QmiH46tV",
        "outputId": "3377341a-e1a7-4f44-a0a6-4df5b0fe71d9"
      },
      "source": [
        "b = np.median(x)\n",
        "b"
      ],
      "execution_count": null,
      "outputs": [
        {
          "output_type": "execute_result",
          "data": {
            "text/plain": [
              "0.5219504075912054"
            ]
          },
          "metadata": {},
          "execution_count": 17
        }
      ]
    },
    {
      "cell_type": "code",
      "metadata": {
        "colab": {
          "base_uri": "https://localhost:8080/"
        },
        "id": "bBV2cofr5iOt",
        "outputId": "12150d7d-f1be-4d34-b489-6e62631877c0"
      },
      "source": [
        "c = stats.mode(x)\n",
        "c"
      ],
      "execution_count": null,
      "outputs": [
        {
          "output_type": "execute_result",
          "data": {
            "text/plain": [
              "ModeResult(mode=array([0.02271738]), count=array([1]))"
            ]
          },
          "metadata": {},
          "execution_count": 21
        }
      ]
    },
    {
      "cell_type": "code",
      "metadata": {
        "colab": {
          "base_uri": "https://localhost:8080/"
        },
        "id": "vdbdlszm-qbd",
        "outputId": "e32e71b9-4c3f-4941-b0d3-a90cc3019d6c"
      },
      "source": [
        "d = np.std(x)\n",
        "d"
      ],
      "execution_count": 26,
      "outputs": [
        {
          "output_type": "execute_result",
          "data": {
            "text/plain": [
              "0.28107448236375837"
            ]
          },
          "metadata": {},
          "execution_count": 26
        }
      ]
    },
    {
      "cell_type": "code",
      "metadata": {
        "colab": {
          "base_uri": "https://localhost:8080/"
        },
        "id": "NpfCFdod_f_R",
        "outputId": "64975916-4c8e-4c76-bbbd-96b7b719211d"
      },
      "source": [
        "e = np.var(x)\n",
        "e"
      ],
      "execution_count": 27,
      "outputs": [
        {
          "output_type": "execute_result",
          "data": {
            "text/plain": [
              "0.0790028646360547"
            ]
          },
          "metadata": {},
          "execution_count": 27
        }
      ]
    },
    {
      "cell_type": "code",
      "metadata": {
        "colab": {
          "base_uri": "https://localhost:8080/"
        },
        "id": "r2T7zon_Ch5Y",
        "outputId": "594b9ae2-9a99-4fa0-ea5c-ac9e316aa998"
      },
      "source": [
        "y = np.random.rand(100)\n",
        "y"
      ],
      "execution_count": 28,
      "outputs": [
        {
          "output_type": "execute_result",
          "data": {
            "text/plain": [
              "array([0.40628067, 0.32929818, 0.79351991, 0.04148966, 0.67672742,\n",
              "       0.27092275, 0.41876356, 0.06274707, 0.9888109 , 0.36157571,\n",
              "       0.7719655 , 0.32784912, 0.91661213, 0.34940489, 0.1338787 ,\n",
              "       0.92700629, 0.53469262, 0.48559468, 0.36277495, 0.50955523,\n",
              "       0.62531385, 0.78533417, 0.800967  , 0.09455764, 0.9693376 ,\n",
              "       0.25265614, 0.71209851, 0.6935708 , 0.11518367, 0.91092091,\n",
              "       0.6474626 , 0.08733991, 0.46288586, 0.28609152, 0.48461212,\n",
              "       0.21658306, 0.39169267, 0.09883772, 0.50886118, 0.399685  ,\n",
              "       0.33656516, 0.27845465, 0.31924159, 0.76042773, 0.72252517,\n",
              "       0.65462399, 0.55950934, 0.39819731, 0.34842532, 0.12158529,\n",
              "       0.04244105, 0.00279781, 0.21563   , 0.00491925, 0.89063527,\n",
              "       0.43992876, 0.18069496, 0.81194505, 0.09663812, 0.68902671,\n",
              "       0.25498009, 0.06800878, 0.3970426 , 0.83274516, 0.00371055,\n",
              "       0.1624673 , 0.97834341, 0.69396353, 0.14834632, 0.53213955,\n",
              "       0.66930015, 0.87834592, 0.48690313, 0.85711742, 0.99669009,\n",
              "       0.20408858, 0.09683911, 0.97462675, 0.87773082, 0.88092202,\n",
              "       0.53352621, 0.96185508, 0.72087438, 0.35753544, 0.60199177,\n",
              "       0.86071548, 0.65296905, 0.51586592, 0.76570338, 0.84760783,\n",
              "       0.22074672, 0.69715761, 0.22250841, 0.52502383, 0.43583335,\n",
              "       0.2398572 , 0.50572407, 0.5935917 , 0.30325376, 0.52752734])"
            ]
          },
          "metadata": {},
          "execution_count": 28
        }
      ]
    },
    {
      "cell_type": "code",
      "metadata": {
        "colab": {
          "base_uri": "https://localhost:8080/"
        },
        "id": "r1fhmf3DCmjI",
        "outputId": "29c3ad6e-192b-42b2-92d5-6d7504769aa0"
      },
      "source": [
        "f = np.corrcoef(y,x)\n",
        "f"
      ],
      "execution_count": 31,
      "outputs": [
        {
          "output_type": "execute_result",
          "data": {
            "text/plain": [
              "array([[1.        , 0.03733921],\n",
              "       [0.03733921, 1.        ]])"
            ]
          },
          "metadata": {},
          "execution_count": 31
        }
      ]
    },
    {
      "cell_type": "code",
      "metadata": {
        "colab": {
          "base_uri": "https://localhost:8080/",
          "height": 282
        },
        "id": "BEIKJSotEJGx",
        "outputId": "ebd87831-a8a4-4ee7-c3aa-849e3cb70eb0"
      },
      "source": [
        "matplotlib.pyplot.scatter(x,y)"
      ],
      "execution_count": 38,
      "outputs": [
        {
          "output_type": "execute_result",
          "data": {
            "text/plain": [
              "<matplotlib.collections.PathCollection at 0x7f7e01c6d0d0>"
            ]
          },
          "metadata": {},
          "execution_count": 38
        },
        {
          "output_type": "display_data",
          "data": {
            "image/png": "[encoded data removed]",
            "text/plain": [
              "<Figure size 432x288 with 1 Axes>"
            ]
          },
          "metadata": {
            "needs_background": "light"
          }
        }
      ]
    },
    {
      "cell_type": "code",
      "metadata": {
        "colab": {
          "base_uri": "https://localhost:8080/"
        },
        "id": "WuhcQmqCFmpo",
        "outputId": "1d25e469-b130-4039-9164-2098a6c62818"
      },
      "source": [
        "np.log(y)"
      ],
      "execution_count": 39,
      "outputs": [
        {
          "output_type": "execute_result",
          "data": {
            "text/plain": [
              "array([-9.00711048e-01, -1.11079161e+00, -2.31276653e-01, -3.18231102e+00,\n",
              "       -3.90486714e-01, -1.30592155e+00, -8.70448820e-01, -2.76864334e+00,\n",
              "       -1.12521679e-02, -1.01728384e+00, -2.58815416e-01, -1.11520177e+00,\n",
              "       -8.70708763e-02, -1.05152390e+00, -2.01082111e+00, -7.57949289e-02,\n",
              "       -6.26063247e-01, -7.22380996e-01, -1.01397260e+00, -6.74217034e-01,\n",
              "       -4.69501595e-01, -2.41645955e-01, -2.21935533e-01, -2.35854568e+00,\n",
              "       -3.11423224e-02, -1.37572585e+00, -3.39539024e-01, -3.65901947e-01,\n",
              "       -2.16122729e+00, -9.32991970e-02, -4.34694240e-01, -2.43794776e+00,\n",
              "       -7.70274778e-01, -1.25144353e+00, -7.24406464e-01, -1.52978117e+00,\n",
              "       -9.37277754e-01, -2.31427597e+00, -6.75580024e-01, -9.17078539e-01,\n",
              "       -1.08896350e+00, -1.27850007e+00, -1.14180712e+00, -2.73874203e-01,\n",
              "       -3.25003025e-01, -4.23694272e-01, -5.80695059e-01, -9.20807633e-01,\n",
              "       -1.05433135e+00, -2.10713928e+00, -3.15963928e+00, -5.87891868e+00,\n",
              "       -1.53419130e+00, -5.31459947e+00, -1.15820284e-01, -8.21142472e-01,\n",
              "       -1.71094496e+00, -2.08322619e-01, -2.33678195e+00, -3.72475237e-01,\n",
              "       -1.36656980e+00, -2.68811854e+00, -9.23711709e-01, -1.83027616e-01,\n",
              "       -5.59657638e+00, -1.81727852e+00, -2.18945394e-02, -3.65335869e-01,\n",
              "       -1.90820576e+00, -6.30849521e-01, -4.01522659e-01, -1.29714772e-01,\n",
              "       -7.19690086e-01, -1.54180356e-01, -3.31540067e-03, -1.58920115e+00,\n",
              "       -2.33470435e+00, -2.57006980e-02, -1.30415319e-01, -1.26786166e-01,\n",
              "       -6.28247076e-01, -3.88914867e-02, -3.27290386e-01, -1.02852078e+00,\n",
              "       -5.07511513e-01, -1.49991282e-01, -4.26225551e-01, -6.61908386e-01,\n",
              "       -2.66960417e-01, -1.65337210e-01, -1.51073928e+00, -3.60743761e-01,\n",
              "       -1.50279039e+00, -6.44311629e-01, -8.30495333e-01, -1.42771152e+00,\n",
              "       -6.81764071e-01, -5.21563576e-01, -1.19318532e+00, -6.39554588e-01])"
            ]
          },
          "metadata": {},
          "execution_count": 39
        }
      ]
    },
    {
      "cell_type": "code",
      "metadata": {
        "colab": {
          "base_uri": "https://localhost:8080/"
        },
        "id": "5K5HUF5KF5go",
        "outputId": "bb4c42e9-ff22-4c1e-87a3-d5f5ba7aa53b"
      },
      "source": [
        "np.exp(y)"
      ],
      "execution_count": 40,
      "outputs": [
        {
          "output_type": "execute_result",
          "data": {
            "text/plain": [
              "array([1.50122384, 1.38999227, 2.21116584, 1.04236238, 1.96742862,\n",
              "       1.31117378, 1.5200809 , 1.0647575 , 2.68803623, 1.4355897 ,\n",
              "       2.16401545, 1.38797954, 2.50080362, 1.41822329, 1.14325414,\n",
              "       2.52693294, 1.70692348, 1.62514116, 1.43731236, 1.66455069,\n",
              "       1.8688324 , 2.1931397 , 2.22769406, 1.09917252, 2.63619768,\n",
              "       1.2874405 , 2.03826409, 2.00084743, 1.12207951, 2.48661144,\n",
              "       1.91068651, 1.09126755, 1.588652  , 1.33121428, 1.62354514,\n",
              "       1.24182622, 1.47948295, 1.10388715, 1.66339581, 1.49135485,\n",
              "       1.4001301 , 1.32108669, 1.37608374, 2.13919102, 2.05962755,\n",
              "       1.92441878, 1.74981373, 1.48913783, 1.41683474, 1.12928568,\n",
              "       1.04335455, 1.00280173, 1.24064326, 1.00493137, 2.43667711,\n",
              "       1.55259661, 1.19804967, 2.25228452, 1.10146171, 1.99177602,\n",
              "       1.29043593, 1.0703747 , 1.48741929, 2.29962291, 1.00371744,\n",
              "       1.17640985, 2.66004597, 2.00163337, 1.15991453, 1.70257114,\n",
              "       1.95287013, 2.40691519, 1.62726897, 2.3563585 , 2.70929943,\n",
              "       1.22640679, 1.10168311, 2.65017786, 2.40543514, 2.41312364,\n",
              "       1.70493368, 2.61654587, 2.05623035, 1.42980124, 1.82575165,\n",
              "       2.36485209, 1.92123661, 1.67508837, 2.15050647, 2.33405672,\n",
              "       1.24700755, 2.00803697, 1.24920632, 1.69049913, 1.54625109,\n",
              "       1.27106763, 1.65818573, 1.81047944, 1.35425808, 1.69473661])"
            ]
          },
          "metadata": {},
          "execution_count": 40
        }
      ]
    }
  ]
}
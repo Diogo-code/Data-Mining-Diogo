{
  "nbformat": 4,
  "nbformat_minor": 0,
  "metadata": {
    "colab": {
      "name": "TaxPoPulationcsv.ipynb",
      "provenance": [],
      "authorship_tag": "ABX9TyN2nckat5frP3djm6yHk9b3",
      "include_colab_link": true
    },
    "kernelspec": {
      "name": "python3",
      "display_name": "Python 3"
    },
    "language_info": {
      "name": "python"
    }
  },
  "cells": [
    {
      "cell_type": "markdown",
      "metadata": {
        "id": "view-in-github",
        "colab_type": "text"
      },
      "source": [
        "<a href=\"https://colab.research.google.com/github/Diogo-code/Data-Mining-Diogo/blob/main/TaxPopulationcsv.ipynb\" target=\"_parent\"><img src=\"https://colab.research.google.com/assets/colab-badge.svg\" alt=\"Open In Colab\"/></a>"
      ]
    },
    {
      "cell_type": "code",
      "metadata": {
        "colab": {
          "base_uri": "https://localhost:8080/"
        },
        "id": "J7QK4Rw9XxWb",
        "outputId": "81856de5-5d57-494f-a70b-30e671209316"
      },
      "source": [
        "import numpy as np\n",
        "import pandas as pd\n",
        "from sklearn import linear_model as lm\n",
        "\n",
        "taxData = pd.read_csv('/content/sales-and-use-tax.csv')\n",
        "popData = pd.read_csv('/content/HS-STAT-Population-of-Vermont-towns-1930-2019 - TOWNPOPxYEAR (1).csv')\n",
        "popData = popData.drop('CTC', axis = 1)\n",
        "\n",
        "popData2 = popData.melt(id_vars=['NAME'], var_name='Calendar Year', value_name='Population')\n",
        "popData2 = popData2.astype({'Calendar Year' : 'int64'})\n",
        "\n",
        "DATA = taxData.merge(popData2, left_on=['Town', 'Calendar Year'], right_on=['NAME', 'Calendar Year'], how='inner')\n",
        "\n",
        "xb = np.array(DATA['Retail'])\n",
        "xb = xb.reshape(-1,1)\n",
        "yb = np.array(DATA['Gross'])\n",
        "yb = yb.reshape(-1,1)\n",
        "\n",
        "bestModel = lm.LinearRegression().fit(xb,yb)\n",
        "BMscore = bestModel.score(xb,yb)\n",
        "\n",
        "xw = np.array(DATA['Calendar Year'])\n",
        "xw = xw.reshape(-1,1)\n",
        "yw = np.array(DATA['Gross'])\n",
        "yw = yw.reshape(-1,1)\n",
        "\n",
        "worstModel = lm.LinearRegression().fit(xw,yw)\n",
        "WMscore = worstModel.score(xw,yw)\n",
        "\n",
        "print(\"Best Model:\", BMscore)\n",
        "print(\"Worst Model:\", WMscore)"
      ],
      "execution_count": 2,
      "outputs": [
        {
          "output_type": "stream",
          "name": "stdout",
          "text": [
            "Best Model: 0.8663761236994375\n",
            "Worst Model: 0.00014268782597526286\n"
          ]
        }
      ]
    }
  ]
}
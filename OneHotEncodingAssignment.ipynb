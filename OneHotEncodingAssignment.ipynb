{
  "nbformat": 4,
  "nbformat_minor": 0,
  "metadata": {
    "colab": {
      "name": "OneHotEncodingAssignment.ipynb",
      "provenance": [],
      "include_colab_link": true
    },
    "kernelspec": {
      "name": "python3",
      "display_name": "Python 3"
    },
    "language_info": {
      "name": "python"
    }
  },
  "cells": [
    {
      "cell_type": "markdown",
      "metadata": {
        "id": "view-in-github",
        "colab_type": "text"
      },
      "source": [
        "<a href=\"https://colab.research.google.com/github/Diogo-code/Data-Mining-Diogo/blob/main/OneHotEncodingAssignment.ipynb\" target=\"_parent\"><img src=\"https://colab.research.google.com/assets/colab-badge.svg\" alt=\"Open In Colab\"/></a>"
      ]
    },
    {
      "cell_type": "code",
      "metadata": {
        "colab": {
          "base_uri": "https://localhost:8080/"
        },
        "id": "EKiqBejhr7nQ",
        "outputId": "17d9bc5c-1853-44a9-fdb0-5bf7b03a7ffc"
      },
      "source": [
        "import pandas as pd\n",
        "import numpy as np\n",
        "from sklearn.preprocessing import OneHotEncoder\n",
        "from sklearn.preprocessing import LabelEncoder\n",
        "from sklearn import linear_model as lm\n",
        "from sklearn.model_selection import train_test_split\n",
        "import matplotlib.pyplot as plt\n",
        "\n",
        "university_towns = []\n",
        "\n",
        "with open('/content/university_towns.txt') as file:\n",
        "  for line in file:\n",
        "    if '[edit]' in line:\n",
        "      state = line \n",
        "    else:\n",
        "      university_towns.append((state, line))\n",
        "\n",
        "university_towns[:10]\n",
        "\n",
        "towns_df = pd.DataFrame(university_towns, columns=['State', 'RegionName'])\n",
        "\n",
        "\n",
        "\n",
        "#towns_df['State'] = towns_df['State'].str.replace('\\[edit\\]\\\\n', '')\n",
        "\n",
        "def get_citystate(item):\n",
        "  if ')' in item:\n",
        "    return item[:item.find(')')+1]\n",
        "  elif '[' in item:\n",
        "    return item[:item.find('[')]\n",
        "  else:\n",
        "    return item\n",
        "\n",
        "\n",
        "\n",
        "\n",
        "towns_df = towns_df.applymap(get_citystate)\n",
        "new = towns_df['RegionName'].str.split('(',n = 1, expand = True)\n",
        "\n",
        "towns_df['City'] = new[0]\n",
        "\n",
        "towns_df['University'] = new[1].str.replace(')','')\n",
        "\n",
        "towns_df.drop(columns = ['RegionName'], inplace = True)\n",
        "\n",
        "towns_df['State'] = towns_df['State'].astype(str)\n",
        "towns_df['City'] = towns_df['City'].astype(str)\n",
        "towns_df['University'] = towns_df['University'].astype(str)\n",
        "\n",
        "label_encoder = LabelEncoder()\n",
        "\n",
        "towns_df['State'] = label_encoder.fit_transform(towns_df['State']) + 1\n",
        "\n",
        "data_column_category = towns_df.select_dtypes(exclude=[np.number]).columns\n",
        "#data_column_numeric = towns_df.select_dtypes(include=[np.number]).columns\n",
        "\n",
        "scalecolumn = np.log10(towns_df['State'])\n",
        "\n",
        "onehot_encoder = OneHotEncoder(sparse=False)\n",
        "\n",
        "onehot_encoded = onehot_encoder.fit_transform(towns_df[data_column_category])\n",
        "\n",
        "onehot_encoded_frame = pd.DataFrame(onehot_encoded, columns = onehot_encoder.get_feature_names(data_column_category))\n",
        "\n",
        "final_df = pd.concat([scalecolumn ,onehot_encoded_frame, towns_df[data_column_category]], axis=1)\n",
        "\n",
        "#Features are City and University\n",
        "#Target column is state is State\n",
        "#The problem with one hot encoding all data is that all variables in the columns, including the target column will become their own columns with 1 or 0\n",
        "\n",
        "\n",
        "\n",
        "#Making train test split\n",
        "DATAFeatures = onehot_encoder.get_feature_names(data_column_category)\n",
        "TargetFeature = \"State\"\n",
        "X_train, X_test, Y_train, Y_test = train_test_split(final_df[DATAFeatures], final_df['State'], test_size=.25)\n",
        "\n",
        "# Liner regression model in order to predict the target feature\n",
        "xb = np.array(X_train)\n",
        "#xb = xb.reshape(-1,1)\n",
        "yb = np.array(Y_train)\n",
        "yb = yb.reshape(-1,1)\n",
        "\n",
        "xb_test = np.array(X_test)\n",
        "#xb_test = xb.reshape(-1,1)\n",
        "yb_test = np.array(Y_test)\n",
        "yb_test = yb_test.reshape(-1,1)\n",
        "\n",
        "bestModel = lm.LinearRegression().fit(xb,yb)\n",
        "BMscore = bestModel.score(xb_test, yb_test)\n",
        "\n",
        "print(final_df.info())\n",
        "print('R squared:',BMscore)\n",
        "\n",
        "#There is no difference between using the scaled target and the non-scaled target. The only thing that scale does is that it just represents the target column as smaller than it actually is.\n",
        "#You can not make accurate predictions using linear regression on this dataset. According to the R-squared value, the target value can not be accurately predicted. This could be because the data is not linear."
      ],
      "execution_count": 2,
      "outputs": [
        {
          "output_type": "stream",
          "name": "stdout",
          "text": [
            "<class 'pandas.core.frame.DataFrame'>\n",
            "RangeIndex: 517 entries, 0 to 516\n",
            "Columns: 1005 entries, State to University\n",
            "dtypes: float64(1003), object(2)\n",
            "memory usage: 4.0+ MB\n",
            "None\n",
            "R squared: -0.2415202235677338\n"
          ]
        }
      ]
    }
  ]
}
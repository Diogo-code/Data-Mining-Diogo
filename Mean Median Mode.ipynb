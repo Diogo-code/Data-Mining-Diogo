{
  "nbformat": 4,
  "nbformat_minor": 0,
  "metadata": {
    "colab": {
      "name": "Pack.ipynb",
      "provenance": [],
      "authorship_tag": "ABX9TyMyB9qi9VLoaaBPUXuSbeYi",
      "include_colab_link": true
    },
    "kernelspec": {
      "name": "python3",
      "display_name": "Python 3"
    },
    "language_info": {
      "name": "python"
    }
  },
  "cells": [
    {
      "cell_type": "markdown",
      "metadata": {
        "id": "view-in-github",
        "colab_type": "text"
      },
      "source": [
        "<a href=\"https://colab.research.google.com/github/Diogo-code/Data-Mining-Diogo/blob/main/Mean%20Median%20Mode.ipynb\" target=\"_parent\"><img src=\"https://colab.research.google.com/assets/colab-badge.svg\" alt=\"Open In Colab\"/></a>"
      ]
    },
    {
      "cell_type": "code",
      "metadata": {
        "colab": {
          "base_uri": "https://localhost:8080/"
        },
        "id": "jzEGhk430x-3",
        "outputId": "885e2389-d59f-422b-d5f0-3c4aa4d5cf69"
      },
      "source": [
        "import numpy as np\n",
        "import pandas as pd\n",
        "!pip install -U scikit-learn\n",
        "!pip install psycopg2-binary\n",
        "import sqlalchemy as sqla\n",
        "from scipy import stats\n",
        "import matplotlib"
      ],
      "execution_count": null,
      "outputs": [
        {
          "output_type": "stream",
          "name": "stdout",
          "text": [
            "Requirement already satisfied: scikit-learn in /usr/local/lib/python3.7/dist-packages (0.24.2)\n",
            "Requirement already satisfied: joblib>=0.11 in /usr/local/lib/python3.7/dist-packages (from scikit-learn) (1.0.1)\n",
            "Requirement already satisfied: scipy>=0.19.1 in /usr/local/lib/python3.7/dist-packages (from scikit-learn) (1.4.1)\n",
            "Requirement already satisfied: numpy>=1.13.3 in /usr/local/lib/python3.7/dist-packages (from scikit-learn) (1.19.5)\n",
            "Requirement already satisfied: threadpoolctl>=2.0.0 in /usr/local/lib/python3.7/dist-packages (from scikit-learn) (2.2.0)\n",
            "Requirement already satisfied: psycopg2-binary in /usr/local/lib/python3.7/dist-packages (2.9.1)\n"
          ]
        }
      ]
    },
    {
      "cell_type": "code",
      "metadata": {
        "colab": {
          "base_uri": "https://localhost:8080/"
        },
        "id": "8uNR3UbY3riP",
        "outputId": "bc28a286-745d-467d-f084-aaaada0f7237"
      },
      "source": [
        "x = np.random.rand(100)\n",
        "x"
      ],
      "execution_count": 23,
      "outputs": [
        {
          "output_type": "execute_result",
          "data": {
            "text/plain": [
              "array([0.9197061 , 0.09884075, 0.79957531, 0.61489761, 0.43527456,\n",
              "       0.94940747, 0.265714  , 0.83530831, 0.24745114, 0.96766701,\n",
              "       0.13907841, 0.95682386, 0.48852673, 0.58083065, 0.47327363,\n",
              "       0.03010995, 0.31999738, 0.24331503, 0.30819663, 0.26523496,\n",
              "       0.82479795, 0.28956891, 0.8890028 , 0.68480263, 0.78585924,\n",
              "       0.66678075, 0.40607816, 0.93874891, 0.63772459, 0.27927058,\n",
              "       0.6463899 , 0.51027519, 0.70761734, 0.21746812, 0.80475649,\n",
              "       0.32579232, 0.44977277, 0.69467402, 0.97963128, 0.81030563,\n",
              "       0.8979972 , 0.21882812, 0.16018304, 0.66408746, 0.13277824,\n",
              "       0.52375027, 0.9766719 , 0.92724459, 0.47189288, 0.55992341,\n",
              "       0.2014088 , 0.16293161, 0.48099395, 0.51469429, 0.7805407 ,\n",
              "       0.6779346 , 0.32316182, 0.7195882 , 0.76556302, 0.93819787,\n",
              "       0.86682678, 0.61633682, 0.95459656, 0.5043288 , 0.10280666,\n",
              "       0.63239561, 0.73811195, 0.97983734, 0.09722399, 0.53445869,\n",
              "       0.48768558, 0.26246665, 0.81130853, 0.68027449, 0.42104604,\n",
              "       0.87795998, 0.85128686, 0.78905687, 0.12559724, 0.76600928,\n",
              "       0.14448225, 0.94589213, 0.58480915, 0.57225363, 0.16815214,\n",
              "       0.40355973, 0.2194034 , 0.30703929, 0.23148114, 0.74751759,\n",
              "       0.25501574, 0.77988554, 0.72841423, 0.67761781, 0.24093907,\n",
              "       0.35596443, 0.54981177, 0.99953696, 0.00954742, 0.18253852])"
            ]
          },
          "metadata": {},
          "execution_count": 23
        }
      ]
    },
    {
      "cell_type": "code",
      "metadata": {
        "colab": {
          "base_uri": "https://localhost:8080/"
        },
        "id": "Zei3FUqy443G",
        "outputId": "7491d51f-ec64-4e78-fb44-51197f6e183c"
      },
      "source": [
        "a = np.mean(x)\n",
        "a"
      ],
      "execution_count": null,
      "outputs": [
        {
          "output_type": "execute_result",
          "data": {
            "text/plain": [
              "0.5395427166824918"
            ]
          },
          "metadata": {},
          "execution_count": 16
        }
      ]
    },
    {
      "cell_type": "code",
      "metadata": {
        "colab": {
          "base_uri": "https://localhost:8080/"
        },
        "id": "Cjp4QmiH46tV",
        "outputId": "3377341a-e1a7-4f44-a0a6-4df5b0fe71d9"
      },
      "source": [
        "b = np.median(x)\n",
        "b"
      ],
      "execution_count": null,
      "outputs": [
        {
          "output_type": "execute_result",
          "data": {
            "text/plain": [
              "0.5219504075912054"
            ]
          },
          "metadata": {},
          "execution_count": 17
        }
      ]
    },
    {
      "cell_type": "code",
      "metadata": {
        "colab": {
          "base_uri": "https://localhost:8080/"
        },
        "id": "bBV2cofr5iOt",
        "outputId": "12150d7d-f1be-4d34-b489-6e62631877c0"
      },
      "source": [
        "c = stats.mode(x)\n",
        "c"
      ],
      "execution_count": null,
      "outputs": [
        {
          "output_type": "execute_result",
          "data": {
            "text/plain": [
              "ModeResult(mode=array([0.02271738]), count=array([1]))"
            ]
          },
          "metadata": {},
          "execution_count": 21
        }
      ]
    },
    {
      "cell_type": "code",
      "metadata": {
        "colab": {
          "base_uri": "https://localhost:8080/"
        },
        "id": "vdbdlszm-qbd",
        "outputId": "e32e71b9-4c3f-4941-b0d3-a90cc3019d6c"
      },
      "source": [
        "d = np.std(x)\n",
        "d"
      ],
      "execution_count": 26,
      "outputs": [
        {
          "output_type": "execute_result",
          "data": {
            "text/plain": [
              "0.28107448236375837"
            ]
          },
          "metadata": {},
          "execution_count": 26
        }
      ]
    },
    {
      "cell_type": "code",
      "metadata": {
        "colab": {
          "base_uri": "https://localhost:8080/"
        },
        "id": "NpfCFdod_f_R",
        "outputId": "64975916-4c8e-4c76-bbbd-96b7b719211d"
      },
      "source": [
        "e = np.var(x)\n",
        "e"
      ],
      "execution_count": 27,
      "outputs": [
        {
          "output_type": "execute_result",
          "data": {
            "text/plain": [
              "0.0790028646360547"
            ]
          },
          "metadata": {},
          "execution_count": 27
        }
      ]
    },
    {
      "cell_type": "code",
      "metadata": {
        "colab": {
          "base_uri": "https://localhost:8080/"
        },
        "id": "r2T7zon_Ch5Y",
        "outputId": "594b9ae2-9a99-4fa0-ea5c-ac9e316aa998"
      },
      "source": [
        "y = np.random.rand(100)\n",
        "y"
      ],
      "execution_count": 28,
      "outputs": [
        {
          "output_type": "execute_result",
          "data": {
            "text/plain": [
              "array([0.40628067, 0.32929818, 0.79351991, 0.04148966, 0.67672742,\n",
              "       0.27092275, 0.41876356, 0.06274707, 0.9888109 , 0.36157571,\n",
              "       0.7719655 , 0.32784912, 0.91661213, 0.34940489, 0.1338787 ,\n",
              "       0.92700629, 0.53469262, 0.48559468, 0.36277495, 0.50955523,\n",
              "       0.62531385, 0.78533417, 0.800967  , 0.09455764, 0.9693376 ,\n",
              "       0.25265614, 0.71209851, 0.6935708 , 0.11518367, 0.91092091,\n",
              "       0.6474626 , 0.08733991, 0.46288586, 0.28609152, 0.48461212,\n",
              "       0.21658306, 0.39169267, 0.09883772, 0.50886118, 0.399685  ,\n",
              "       0.33656516, 0.27845465, 0.31924159, 0.76042773, 0.72252517,\n",
              "       0.65462399, 0.55950934, 0.39819731, 0.34842532, 0.12158529,\n",
              "       0.04244105, 0.00279781, 0.21563   , 0.00491925, 0.89063527,\n",
              "       0.43992876, 0.18069496, 0.81194505, 0.09663812, 0.68902671,\n",
              "       0.25498009, 0.06800878, 0.3970426 , 0.83274516, 0.00371055,\n",
              "       0.1624673 , 0.97834341, 0.69396353, 0.14834632, 0.53213955,\n",
              "       0.66930015, 0.87834592, 0.48690313, 0.85711742, 0.99669009,\n",
              "       0.20408858, 0.09683911, 0.97462675, 0.87773082, 0.88092202,\n",
              "       0.53352621, 0.96185508, 0.72087438, 0.35753544, 0.60199177,\n",
              "       0.86071548, 0.65296905, 0.51586592, 0.76570338, 0.84760783,\n",
              "       0.22074672, 0.69715761, 0.22250841, 0.52502383, 0.43583335,\n",
              "       0.2398572 , 0.50572407, 0.5935917 , 0.30325376, 0.52752734])"
            ]
          },
          "metadata": {},
          "execution_count": 28
        }
      ]
    },
    {
      "cell_type": "code",
      "metadata": {
        "colab": {
          "base_uri": "https://localhost:8080/"
        },
        "id": "r1fhmf3DCmjI",
        "outputId": "663df9f6-4869-40e9-b30a-69c0ef9a7f48"
      },
      "source": [
        "f = np.corrcoef(y)\n",
        "f"
      ],
      "execution_count": 30,
      "outputs": [
        {
          "output_type": "execute_result",
          "data": {
            "text/plain": [
              "1.0"
            ]
          },
          "metadata": {},
          "execution_count": 30
        }
      ]
    }
  ]
}